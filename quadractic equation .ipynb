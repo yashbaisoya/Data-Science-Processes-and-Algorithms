{
 "cells": [
  {
   "cell_type": "code",
   "execution_count": 1,
   "metadata": {},
   "outputs": [
    {
     "name": "stdout",
     "output_type": "stream",
     "text": [
      "hello jupyter\n"
     ]
    }
   ],
   "source": [
    "print(\"hello jupyter\")"
   ]
  },
  {
   "cell_type": "code",
   "execution_count": 4,
   "metadata": {},
   "outputs": [
    {
     "name": "stdout",
     "output_type": "stream",
     "text": [
      "enter the coefficient of x square: 1\n",
      "enter the coefficient of x: -4\n",
      "enter the constant : 3\n",
      "discriminant 4.0\n",
      "r1,r2 , roots are real and distinct 5.0 3.0\n"
     ]
    }
   ],
   "source": [
    "a=float(input(\"enter the coefficient of x square: \"))\n",
    "b=float(input(\"enter the coefficient of x: \"))\n",
    "c=float(input(\"enter the constant : \"))\n",
    "d=b**2-4*a*c\n",
    "print(\"discriminant\",d)\n",
    "if d>0:\n",
    "    r1=-b+d**1/2/(2*a)\n",
    "    r2=-b-d**1/2/(2*a)\n",
    "    print(\"r1,r2 , roots are real and distinct\",r1,r2)\n",
    "elif d==0:\n",
    "    r1=-b/(2*a)\n",
    "    r1=r2\n",
    "    print(\"r1,r2,roots are equal\",r1,r2)\n",
    "else:\n",
    "    print(\"roots are imaginary\")\n",
    "        "
   ]
  },
  {
   "cell_type": "code",
   "execution_count": 11,
   "metadata": {},
   "outputs": [
    {
     "name": "stdout",
     "output_type": "stream",
     "text": [
      "enter the coefficient of x square: 1\n",
      "enter the coefficient of x: -4\n",
      "enter the constant : 3\n",
      "r1,r2 , roots are real and distinct 5.0 3.0\n"
     ]
    }
   ],
   "source": [
    "num1=float(input(\"enter the coefficient of x square: \"))\n",
    "num2=float(input(\"enter the coefficient of x: \"))\n",
    "num3=float(input(\"enter the constant : \"))\n",
    "def quadratic_roots (a,b,c):\n",
    "    d=(b**2)-4*a*c\n",
    "    if d>0:\n",
    "        r1=-b+d**1/2/(2*a)\n",
    "        r2=-b-d**1/2/(2*a)\n",
    "        print(\"r1,r2 , roots are real and distinct\",r1,r2)\n",
    "    elif d==0:\n",
    "        r1=-b/(2*a)\n",
    "        r1=r2\n",
    "        print(\"r1,r2,roots are equal\",r1,r2)\n",
    "    else:\n",
    "        print(\"roots are imaginary\")\n",
    "quadratic_roots(num1,num2,num3)        "
   ]
  },
  {
   "cell_type": "code",
   "execution_count": null,
   "metadata": {},
   "outputs": [],
   "source": []
  }
 ],
 "metadata": {
  "kernelspec": {
   "display_name": "Python 3",
   "language": "python",
   "name": "python3"
  },
  "language_info": {
   "codemirror_mode": {
    "name": "ipython",
    "version": 3
   },
   "file_extension": ".py",
   "mimetype": "text/x-python",
   "name": "python",
   "nbconvert_exporter": "python",
   "pygments_lexer": "ipython3",
   "version": "3.8.5"
  }
 },
 "nbformat": 4,
 "nbformat_minor": 4
}
