{
 "cells": [
  {
   "cell_type": "markdown",
   "metadata": {},
   "source": [
    "# Data Science & Algorithm"
   ]
  },
  {
   "cell_type": "markdown",
   "metadata": {},
   "source": [
    "# Assignment-1"
   ]
  },
  {
   "cell_type": "code",
   "execution_count": 2,
   "metadata": {},
   "outputs": [],
   "source": [
    "import array\n",
    "from array import *"
   ]
  },
  {
   "cell_type": "code",
   "execution_count": 5,
   "metadata": {},
   "outputs": [],
   "source": [
    "##Q1 array operation:\n",
    "import array\n",
    "from array import *\n"
   ]
  },
  {
   "cell_type": "code",
   "execution_count": 6,
   "metadata": {},
   "outputs": [
    {
     "name": "stdout",
     "output_type": "stream",
     "text": [
      "array('i', [1, 2, 3, 4, 5, 6, 7, 8, 9, 10])\n"
     ]
    }
   ],
   "source": [
    "#Q:(a)\n",
    "number=array('i',[1,2,3,4,5,6,7,8,9,10])\n",
    "print(number)"
   ]
  },
  {
   "cell_type": "code",
   "execution_count": 8,
   "metadata": {},
   "outputs": [
    {
     "name": "stdout",
     "output_type": "stream",
     "text": [
      "sum of all no. in array 55\n"
     ]
    }
   ],
   "source": [
    "#Q:(b)\n",
    "number=[1,2,3,4,5,6,7,8,9,10]\n",
    "sum=0\n",
    "for i in range(0,len(number)):\n",
    "    sum=sum+number[i]\n",
    "print('sum of all no. in array',sum)"
   ]
  },
  {
   "cell_type": "code",
   "execution_count": 11,
   "metadata": {},
   "outputs": [
    {
     "name": "stdout",
     "output_type": "stream",
     "text": [
      "average of all no. in array 5.5\n"
     ]
    }
   ],
   "source": [
    "#Q:(C)\n",
    "number=[1,2,3,4,5,6,7,8,9,10]\n",
    "sum=0\n",
    "for i in range(0,len(number)):\n",
    "    sum=sum+number[i]\n",
    "    average=sum/len(number)\n",
    "print('average of all no. in array',average)"
   ]
  },
  {
   "cell_type": "code",
   "execution_count": 14,
   "metadata": {},
   "outputs": [
    {
     "name": "stdout",
     "output_type": "stream",
     "text": [
      "maximum number in array: 10\n",
      "minimum number in array: 1\n"
     ]
    }
   ],
   "source": [
    "print(\"maximum number in array:\",max(number))\n",
    "print(\"minimum number in array:\",min(number))"
   ]
  },
  {
   "cell_type": "markdown",
   "metadata": {},
   "source": [
    "# Q2 array manipulation"
   ]
  },
  {
   "cell_type": "code",
   "execution_count": 15,
   "metadata": {},
   "outputs": [
    {
     "name": "stdout",
     "output_type": "stream",
     "text": [
      "['sharim', 'pranav', 'tanzeem', 'osama', 'danish', 'junaid', 'zayn', 'ali']\n"
     ]
    }
   ],
   "source": [
    "#Q:(a)\n",
    "name=['sharim','pranav','tanzeem','osama','danish','junaid','zayn','ali']\n",
    "print(name)"
   ]
  },
  {
   "cell_type": "code",
   "execution_count": 17,
   "metadata": {},
   "outputs": [
    {
     "name": "stdout",
     "output_type": "stream",
     "text": [
      "['sharim', 'pranav', 'tanzeem', 'osama', 'danish', 'junaid', 'zayn', 'ali', 'raza', 'raza']\n",
      "['sharim', 'pranav', 'tanzeem', 'osama', 'danish', 'junaid', 'zayn', 'ali', 'raza', 'raza', 'saqib']\n"
     ]
    }
   ],
   "source": [
    "#Q:(b)\n",
    "name.append('raza')\n",
    "print(name)\n",
    "name.append('saqib')\n",
    "print(name)"
   ]
  },
  {
   "cell_type": "code",
   "execution_count": 18,
   "metadata": {},
   "outputs": [
    {
     "name": "stdout",
     "output_type": "stream",
     "text": [
      "['sharim', 'pranav', 'tanzeem', 'osama', 'danish', 'junaid', 'zayn', 'ali', 'raza', 'raza', 'saqib']\n"
     ]
    }
   ],
   "source": [
    "print(name)"
   ]
  },
  {
   "cell_type": "code",
   "execution_count": 19,
   "metadata": {},
   "outputs": [
    {
     "name": "stdout",
     "output_type": "stream",
     "text": [
      "['sharim', 'pranav', 'tanzeem', 'mahid', 'danish', 'junaid', 'zayn', 'ali', 'raza', 'raza', 'saqib']\n"
     ]
    }
   ],
   "source": [
    "#Q:(c)\n",
    "name[3]='mahid'\n",
    "print(name)"
   ]
  },
  {
   "cell_type": "code",
   "execution_count": 21,
   "metadata": {},
   "outputs": [
    {
     "name": "stdout",
     "output_type": "stream",
     "text": [
      "['sharim', 'pranav', 'tanzeem', 'mahid', 'danish', 'junaid', 'zayn', 'ali', 'raza', 'raza']\n"
     ]
    }
   ],
   "source": [
    "#Q:(d)\n",
    "name.remove('saqib')\n",
    "print(name)"
   ]
  },
  {
   "cell_type": "code",
   "execution_count": 23,
   "metadata": {},
   "outputs": [
    {
     "name": "stdout",
     "output_type": "stream",
     "text": [
      "display the final array of names: ['sharim', 'pranav', 'tanzeem', 'mahid', 'danish', 'junaid', 'zayn', 'ali', 'raza', 'raza']\n"
     ]
    }
   ],
   "source": [
    "#Q:(e)\n",
    "print(\"display the final array of names:\",name)"
   ]
  },
  {
   "cell_type": "markdown",
   "metadata": {},
   "source": [
    "# Q3 searching in arrays"
   ]
  },
  {
   "cell_type": "code",
   "execution_count": 24,
   "metadata": {},
   "outputs": [
    {
     "name": "stdout",
     "output_type": "stream",
     "text": [
      "array('i', [45, 21, 25, 85, 65, 47, 23, 20, 10, 25, 34, 95, 35, 45, 65])\n"
     ]
    }
   ],
   "source": [
    "#Q:(a)\n",
    "arr=array('i',[45,21,25,85,65,47,23,20,10,25,34,95,35,45,65,])\n",
    "print(arr)"
   ]
  },
  {
   "cell_type": "code",
   "execution_count": 25,
   "metadata": {},
   "outputs": [
    {
     "name": "stdout",
     "output_type": "stream",
     "text": [
      "15\n"
     ]
    }
   ],
   "source": [
    "print(len(arr))"
   ]
  },
  {
   "cell_type": "code",
   "execution_count": 33,
   "metadata": {},
   "outputs": [
    {
     "name": "stdout",
     "output_type": "stream",
     "text": [
      "enter the number to check the value in array:45\n",
      "True\n"
     ]
    }
   ],
   "source": [
    "#Q:(b)\n",
    "n=int(input('enter the number to check the value in array:'))\n",
    "print(n in arr)\n",
    "            "
   ]
  },
  {
   "cell_type": "code",
   "execution_count": 41,
   "metadata": {},
   "outputs": [
    {
     "name": "stdout",
     "output_type": "stream",
     "text": [
      "enter the number5\n",
      "not present\n"
     ]
    }
   ],
   "source": [
    "#Q:(c)\n",
    "\n",
    "n=int(input(\"enter the number\"))\n",
    "if n in arr:\n",
    "    print('present number')\n",
    "else:\n",
    "    print('not present')"
   ]
  },
  {
   "cell_type": "markdown",
   "metadata": {},
   "source": [
    "# Q4array sorting"
   ]
  },
  {
   "cell_type": "code",
   "execution_count": 42,
   "metadata": {},
   "outputs": [
    {
     "name": "stdout",
     "output_type": "stream",
     "text": [
      "array('i', [12, 32, 25, 45, 75, 63, 25, 58, 52, 69, 67, 87])\n"
     ]
    }
   ],
   "source": [
    "#Q:(a)\n",
    "a=array('i',[12,32,25,45,75,63,25,58,52,69,67,87])\n",
    "print(a)"
   ]
  },
  {
   "cell_type": "code",
   "execution_count": 43,
   "metadata": {},
   "outputs": [
    {
     "name": "stdout",
     "output_type": "stream",
     "text": [
      "array('i', [87, 67, 69, 52, 58, 25, 63, 75, 45, 25, 32, 12])\n"
     ]
    }
   ],
   "source": [
    "#Q:(b)\n",
    "a.reverse()\n",
    "print(a)"
   ]
  },
  {
   "cell_type": "code",
   "execution_count": 50,
   "metadata": {},
   "outputs": [
    {
     "name": "stdout",
     "output_type": "stream",
     "text": [
      "part1 array('i', [12, 32, 25, 45, 75, 63])\n",
      "part2 array('i', [25, 58, 52, 69, 67, 87])\n"
     ]
    }
   ],
   "source": [
    "#Q:(c)\n",
    "def divide(arr):\n",
    "    l=len(arr)//2\n",
    "    part1=arr[:l]\n",
    "    part2=arr[l:]\n",
    "    print('part1',part1)\n",
    "    print('part2',part2)\n",
    "    \n",
    "arr=array('i',[12,32,25,45,75,63,25,58,52,69,67,87])  \n",
    "divide(arr)"
   ]
  }
 ],
 "metadata": {
  "kernelspec": {
   "display_name": "Python 3",
   "language": "python",
   "name": "python3"
  },
  "language_info": {
   "codemirror_mode": {
    "name": "ipython",
    "version": 3
   },
   "file_extension": ".py",
   "mimetype": "text/x-python",
   "name": "python",
   "nbconvert_exporter": "python",
   "pygments_lexer": "ipython3",
   "version": "3.8.5"
  }
 },
 "nbformat": 4,
 "nbformat_minor": 4
}
