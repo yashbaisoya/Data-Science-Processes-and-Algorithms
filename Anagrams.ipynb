{
 "cells": [
  {
   "cell_type": "code",
   "execution_count": 10,
   "id": "9a1565d3",
   "metadata": {},
   "outputs": [
    {
     "name": "stdout",
     "output_type": "stream",
     "text": [
      "boat\n",
      "['b', 'o', 'a', 't']\n",
      "['a', 'o', 'b', 't']\n",
      "aobt\n"
     ]
    }
   ],
   "source": [
    "a=\"boat\"\n",
    "print(a)\n",
    "b=list(a)\n",
    "print(b)\n",
    "b[0],b[2]=b[2],b[0]\n",
    "print(b)\n",
    "word=\"\"\n",
    "d=word.join(b)\n",
    "print(d)"
   ]
  },
  {
   "cell_type": "code",
   "execution_count": 12,
   "id": "065a2649",
   "metadata": {},
   "outputs": [
    {
     "name": "stdout",
     "output_type": "stream",
     "text": [
      "['b', 'o', 'a', 't']\n",
      "aobt\n"
     ]
    }
   ],
   "source": [
    "a=\"boat\"\n",
    "b=list(a)\n",
    "print(b)\n",
    "def swap(list,pos1,pos2):\n",
    "    list[pos1],list[pos2]=list[pos2],list[pos1]\n",
    "    return list\n",
    "c=swap(b,0,2)\n",
    "word=\"\"\n",
    "d=word.join(c)\n",
    "print(d)"
   ]
  },
  {
   "cell_type": "code",
   "execution_count": 18,
   "id": "b61c655c",
   "metadata": {},
   "outputs": [
    {
     "name": "stdout",
     "output_type": "stream",
     "text": [
      "['c', 'h', 'e', 'c', 'k', 'm', 'a', 't', 'e']\n",
      "ctechmake\n"
     ]
    }
   ],
   "source": [
    "m=\"checkmate\"\n",
    "n=list(m)\n",
    "print(n)\n",
    "def swap(list,pos1,pos2,pos3):\n",
    "    list[pos1],list[pos2],list[pos3]=list[pos3],list[pos1],list[pos2]\n",
    "    return list\n",
    "y=swap(n,1,4,7)\n",
    "z=\"\"\n",
    "t=z.join(y)\n",
    "print(t)"
   ]
  },
  {
   "cell_type": "code",
   "execution_count": 8,
   "id": "d49f60db",
   "metadata": {},
   "outputs": [
    {
     "name": "stdout",
     "output_type": "stream",
     "text": [
      "yash\n",
      "shay\n"
     ]
    }
   ],
   "source": [
    "a=\"yash\"\n",
    "print(a)\n",
    "b=list(a)\n",
    "b[0],b[1],b[2],b[3]=b[2],b[3],b[1],b[0]\n",
    "c=\"\"\n",
    "d=c.join(b)\n",
    "print(d)"
   ]
  },
  {
   "cell_type": "code",
   "execution_count": 13,
   "id": "95bddf7e",
   "metadata": {},
   "outputs": [
    {
     "name": "stdout",
     "output_type": "stream",
     "text": [
      "tente\n",
      "tenet\n"
     ]
    }
   ],
   "source": [
    "a='tente'\n",
    "print(a)\n",
    "b=list(a)\n",
    "def swap(b,pos1,pos2):\n",
    "    b[pos1],b[pos2]=b[pos2],b[pos1]\n",
    "    return b\n",
    "f=swap(b,3,4)\n",
    "d=\"\"\n",
    "e=d.join(f)\n",
    "print(e)"
   ]
  }
 ],
 "metadata": {
  "kernelspec": {
   "display_name": "Python 3 (ipykernel)",
   "language": "python",
   "name": "python3"
  },
  "language_info": {
   "codemirror_mode": {
    "name": "ipython",
    "version": 3
   },
   "file_extension": ".py",
   "mimetype": "text/x-python",
   "name": "python",
   "nbconvert_exporter": "python",
   "pygments_lexer": "ipython3",
   "version": "3.11.4"
  }
 },
 "nbformat": 4,
 "nbformat_minor": 5
}
